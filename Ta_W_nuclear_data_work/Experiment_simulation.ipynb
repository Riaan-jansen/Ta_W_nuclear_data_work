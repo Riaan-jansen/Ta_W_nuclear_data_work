{
 "cells": [
  {
   "cell_type": "markdown",
   "id": "cd365860",
   "metadata": {},
   "source": [
    "# Simulation of Experiment \n",
    "Protons on Ta181 at the MC40 cyclotron in Birmingham"
   ]
  },
  {
   "cell_type": "code",
   "execution_count": 24,
   "id": "3f14ec6d",
   "metadata": {},
   "outputs": [
    {
     "name": "stdout",
     "output_type": "stream",
     "text": [
      "10\n"
     ]
    }
   ],
   "source": [
    " %matplotlib inline\n",
    "# imports\n",
    "import basic_data_reader as bdr\n",
    "import pandas as pd\n",
    "import numpy as np\n",
    "import matplotlib\n",
    "import matplotlib.pyplot as plt\n",
    "from matplotlib.pyplot import cm\n",
    "import fispact_printlib_reader as fpr\n",
    "import fispact_analysis as fa\n",
    "import fispact_output_reader\n",
    "\n",
    "# get basic data\n",
    "bd = bdr.basic_data()\n",
    "\n",
    "# colours for plotting\n",
    "cycle_colors = plt.rcParams['axes.prop_cycle'].by_key()['color']\n",
    "print(len(cycle_colors))\n",
    "\n",
    "# get gamma line data\n",
    "linedata = fpr.read_fispact_printlib(\"Data/decay_lines.out\")\n",
    "linedata = fpr.particle_filter(linedata, 'gamma')\n",
    "linedata[\"energy_kev\"] = linedata[\"energy_ev\"]/1000"
   ]
  },
  {
   "cell_type": "code",
   "execution_count": 45,
   "id": "8f544a10",
   "metadata": {},
   "outputs": [],
   "source": [
    "# experiment set up\n",
    "material = \"Ta\"\n",
    "thickness = 0.0008  # cm\n",
    "width = 1          # cm\n",
    "height = 1         # cm\n",
    "volume = thickness * width * height\n",
    "density = bd.get_density_value(material)\n",
    "mass = volume * density\n",
    "\n",
    "p_energy = 10.0  # energy in MeV\n",
    "beam_current = 10 # assumed\n",
    "irrad_time = 300 # irradiation time in seconds  3600, 900 and 300 are simulated in fispact\n",
    "cool_time = 600  # time before sample on detector in seconds\n",
    "count_time = 1800 # time on detector\n",
    "detector_channels = 8000\n",
    "geometric_eff = 0.5 # assume foil directly on top of detector\n",
    "\n",
    "counts = np.zeros(detector_channels)\n",
    "\n"
   ]
  },
  {
   "cell_type": "code",
   "execution_count": 48,
   "id": "673a04d6",
   "metadata": {},
   "outputs": [
    {
     "name": "stdout",
     "output_type": "stream",
     "text": [
      "W179\n",
      "W179m\n",
      "W181\n"
     ]
    },
    {
     "data": {
      "image/png": "[encoded data removed]",
      "text/plain": [
       "<Figure size 432x288 with 1 Axes>"
      ]
     },
     "metadata": {
      "needs_background": "light"
     },
     "output_type": "display_data"
    }
   ],
   "source": [
    "# get fispact simulation output for the start of the count\n",
    "ef = str(p_energy) + \"MeV/\"\n",
    "fn1 = material + \"_\" + str(p_energy)\n",
    "if irrad_time == 3600:\n",
    "    tme_str = \"1hr/\"\n",
    "elif irrad_time == 900:\n",
    "    tme_str = \"15min/\"\n",
    "else:\n",
    "    tme_str = \"5min/\"\n",
    "path = \"simulations/fispact/\"+ tme_str + material + \"/TENDL/\" + fn1 + \".out\"\n",
    "fout = fispact_output_reader.read_fis_out(path)\n",
    "\n",
    "# reduce to gamma emitting nuclides with more than 1bq/g,\n",
    "inv = fout.timestep_data[2].inventory  # need to make it link to cooling time - current set for 10mins\n",
    "inv = inv[inv[\"act\"] > 1000]   # simulations are for 1kg\n",
    "inv = fa.filter_emits_gamma(inv)\n",
    "nucs = inv[\"nuclide\"].unique()\n",
    "\n",
    "# scale to sample mass\n",
    "masskg = mass/1000\n",
    "inv[\"act\"] = inv[\"act\"] * masskg\n",
    "inv[\"atoms\"] = inv[\"atoms\"] * masskg\n",
    "inv[\"mass\"] = inv[\"mass\"] * masskg\n",
    "\n",
    "# calculate number of decays for each nuclide, during count\n",
    "for i, nuc in enumerate(inv[\"nuclide\"]):\n",
    "    print(nuc)\n",
    "    hl = bd.get_hl_value(nuc)\n",
    "    lamdag = 0.693 / hl\n",
    "    n0 = inv.loc[inv['nuclide'] == nuc, 'atoms'].item()\n",
    "    n = n0 * np.exp(-1*lamdag*count_time)\n",
    "    ndecays = n0 - n\n",
    "\n",
    "    # now get number of emissions\n",
    "    nuc_lines = linedata[linedata[\"nuclide\"] == nuc]\n",
    "    nuc_lines = nuc_lines.drop_duplicates(['energy_kev'])\n",
    "    nuc_lines[\"emissions\"] = ndecays * (nuc_lines[\"intensity\"]/100)\n",
    "    \n",
    "    # plot emissions graph\n",
    "    style = \"solid\"\n",
    "    if i>9:\n",
    "        i = i - 10\n",
    "        style = 'dotted'\n",
    "    plt.vlines(nuc_lines[\"energy_kev\"],  ymin=0, ymax=nuc_lines[\"emissions\"], label=nuc, color=cycle_colors[i], linestyles=style)\n",
    "\n",
    "    plt.xlabel(\"Energy keV\")\n",
    "    plt.ylabel(\"Emissions\")\n",
    "    plt.yscale(\"log\") \n",
    "    plt.legend(bbox_to_anchor=(1.02,1), loc=\"upper left\")\n",
    "    \n",
    "    # attempt to get counts\n",
    "    for energy in nuc_lines[\"energy_kev\"]:\n",
    "        channel_num = int(np.floor(energy / (3000/8000)))\n",
    "        emission = nuc_lines.loc[nuc_lines['energy_kev'] == energy, 'emissions'].item()\n",
    "\n",
    "        eff = 0.01  # replace with a proper efficiency function\n",
    "        counts[channel_num] = counts[channel_num] + (eff*emission) \n",
    "        # should add broadening\n",
    "        # should add compton scattering    \n",
    "\n",
    "plt.show()"
   ]
  },
  {
   "cell_type": "code",
   "execution_count": 49,
   "id": "fcfd4a91",
   "metadata": {},
   "outputs": [
    {
     "data": {
      "image/png": "[encoded data removed]",
      "text/plain": [
       "<Figure size 432x288 with 1 Axes>"
      ]
     },
     "metadata": {
      "needs_background": "light"
     },
     "output_type": "display_data"
    }
   ],
   "source": [
    "plt.plot(counts)\n",
    "plt.xlabel(\"Channel\")\n",
    "plt.ylabel(\"counts\")\n",
    "plt.yscale(\"log\") "
   ]
  },
  {
   "cell_type": "code",
   "execution_count": null,
   "id": "5aaca251",
   "metadata": {},
   "outputs": [],
   "source": []
  }
 ],
 "metadata": {
  "kernelspec": {
   "display_name": "Python 3 (ipykernel)",
   "language": "python",
   "name": "python3"
  },
  "language_info": {
   "codemirror_mode": {
    "name": "ipython",
    "version": 3
   },
   "file_extension": ".py",
   "mimetype": "text/x-python",
   "name": "python",
   "nbconvert_exporter": "python",
   "pygments_lexer": "ipython3",
   "version": "3.9.7"
  }
 },
 "nbformat": 4,
 "nbformat_minor": 5
}
