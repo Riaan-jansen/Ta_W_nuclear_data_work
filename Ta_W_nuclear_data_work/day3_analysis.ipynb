{
 "cells": [
  {
   "cell_type": "code",
   "execution_count": 6,
   "id": "3012d884",
   "metadata": {},
   "outputs": [],
   "source": [
    " %matplotlib inline\n",
    "# imports\n",
    "import basic_data_reader as bdr\n",
    "import pandas as pd\n",
    "import numpy as np\n",
    "import matplotlib.pyplot as plt\n",
    "\n",
    "import fispact_printlib_reader as fpr\n",
    "import fispact_analysis as fa\n",
    "import fispact_output_reader\n",
    "import gs_analysis as gsa\n"
   ]
  },
  {
   "cell_type": "code",
   "execution_count": 7,
   "id": "ff9a7564",
   "metadata": {},
   "outputs": [],
   "source": [
    "# data paths\n",
    "# aluminium foils - measured downstairs\n",
    "al21_path = \"exp_data/Germanium/day3/Irradiations/Downstairs/meas_al21_vertical.spe\"\n",
    "al22_path = \"exp_data/Germanium/day3/Irradiations/Downstairs/meas_al22_vertical.spe\"\n",
    "\n",
    "#Ta foils - measured upstairs\n",
    "ta21_path = \"exp_data/Germanium/day3/Irradiations/Upstairs/meas_Ta21_135mm_source_to_detector.spe\"\n",
    "ta22_path = \"exp_data/Germanium/day3/Irradiations/Upstairs/meas_Ta22_125mm_source_to_detector.spe\"\n",
    "ta23_path = \"exp_data/Germanium/day3/Irradiations/Upstairs/meas_Ta23_125mm_source_to_detector.spe\"\n",
    "\n",
    "# downstairs calibration runs\n",
    "na22_cal_ds_path = \"exp_data/Germanium/day3/Irradiations/Downstairs/ecal_22na_vertical.spe\"\n",
    "co60_cal_ds_path = \"exp_data/Germanium/day3/Irradiations/Downstairs/ecal_60co_vertical.spe\"\n",
    "ag108_cal_ds_path = \"exp_data/Germanium/day3/Irradiations/Downstairs/ecal_108m_ag_vertical.spe\"\n",
    "cs137_cal_ds_path = \"exp_data/Germanium/day3/Irradiations/Downstairs/ecal_137cs_vertical.spe\"\n",
    "ba133_cal_ds_path = \"exp_data/Germanium/day3/Irradiations/Downstairs/ecal_133ba_vertical.spe\"\n",
    "am241_cal_ds_path = \"exp_data/Germanium/day3/Irradiations/Downstairs/ecal_241am_vertical.spe\"\n",
    "eu152_cal_ds_path = \"exp_data/Germanium/day3/Irradiations/Downstairs/ecal_152eu_vertical.spe\"\n",
    "\n",
    "# upstairs calibration runs\n",
    "co60_cal_up_path = \"exp_data/Germanium/day3/Irradiations/Upstairs/ecal_60co_upstairs_141mm_source_to_detector.spe\"\n",
    "eu152_cal_up_path = \"exp_data/Germanium/day3/Irradiations/Upstairs/ecal_152eu_upstairs_141mm_source_to_detector.spe\"\n"
   ]
  },
  {
   "cell_type": "code",
   "execution_count": 8,
   "id": "36c4b171",
   "metadata": {},
   "outputs": [],
   "source": [
    "# calibration source data\n",
    "\"\"\"23/01/23\n",
    "--------\n",
    "\n",
    "Source   ID                      Activity (Bq)\n",
    "\n",
    "108mAg   UOB940115               7820 +/-   481\n",
    "\n",
    "241Am    1Q598                 408526 +/- 20427\n",
    "\n",
    "133Ba    Ba133.278.17           57070 +/-  2964\n",
    "\n",
    "60Co     Co60.284.17            41542 +/-  1828\n",
    "\n",
    "137Cs    A0697                 115295 +/-  4266\n",
    "\n",
    "152Eu    C3N.19/92 [EW 617]     93206 +/-  4661\n",
    "\n",
    "22Na     NA22-UOB251021         33512 +/-  1837\n",
    "\"\"\"\n",
    "\n",
    "cal_source_data = {\"ag108m\":7820, \"am241\":408526, \"ba133\":57070, \"co60\":41542, \"cs137\":115295, \"eu152\":93206, \"na22\":33512}\n",
    "cal_source_peaks = {\"ag108m\":[], \"am241\":[59], \"ba133\":[], \"co60\":[1173, 1332], \"cs137\":[], \"eu152\":[], \"na22\":[]}"
   ]
  },
  {
   "cell_type": "code",
   "execution_count": 9,
   "id": "c43ac1ea",
   "metadata": {},
   "outputs": [
    {
     "name": "stdout",
     "output_type": "stream",
     "text": [
      "[0 0 0 ... 0 0 0]\n",
      "59 74351732.0\n",
      "182.0\n",
      "140\n"
     ]
    },
    {
     "data": {
      "image/png": "[encoded data removed]",
      "text/plain": [
       "<Figure size 432x288 with 1 Axes>"
      ]
     },
     "metadata": {
      "needs_background": "light"
     },
     "output_type": "display_data"
    }
   ],
   "source": [
    "# downstairs calibration\n",
    "measured_peak_area = {}\n",
    "\n",
    "# am241\n",
    "am241_spec = gsa.get_spect(am241_cal_ds_path)\n",
    "# emitted photons\n",
    "for i, peak in enumerate(cal_source_peaks[\"am241\"]):\n",
    "    intensity = 1\n",
    "    emitted = am241_spec.real_time * cal_source_data[\"am241\"] * intensity\n",
    "    print(peak, emitted)\n",
    "\n",
    "print(am241_spec.real_time)\n",
    "# find peak area\n",
    "\n",
    "# gsa.plot_spec(am241_spec, peaks=cal_source_peaks[\"am241\"])\n",
    "\n",
    "pos = gsa.find_energy_pos(am241_spec.ebins, cal_source_peaks[\"am241\"])\n",
    "print(pos)\n",
    "x, y = gsa.get_peak_roi(pos, am241_spec)\n",
    "popt = gsa.fit_peak(x, y)\n",
    "\n",
    "\n",
    "# peak plot\n",
    "plt.plot(x,y, label=\"raw data\")\n",
    "\n",
    "x = gsa.rebin(x, 10)\n",
    "\n",
    "# plot fit\n",
    "plt.plot(x, gsa.gaussian(x, popt[0], popt[1], popt[2]), label=\"fit\")\n",
    "plt.xlabel(\"Energy KeV\")\n",
    "plt.ylabel(\"Counts\")\n",
    "plt.legend()\n",
    "plt.show()\n"
   ]
  },
  {
   "cell_type": "code",
   "execution_count": 5,
   "id": "5516fd7a",
   "metadata": {},
   "outputs": [
    {
     "name": "stdout",
     "output_type": "stream",
     "text": [
      "[0 0 0 ... 0 0 0]\n"
     ]
    },
    {
     "ename": "TypeError",
     "evalue": "cannot unpack non-iterable spect object",
     "output_type": "error",
     "traceback": [
      "\u001b[1;31m---------------------------------------------------------------------------\u001b[0m",
      "\u001b[1;31mTypeError\u001b[0m                                 Traceback (most recent call last)",
      "\u001b[1;32m~\\AppData\\Local\\Temp/ipykernel_156/1071862888.py\u001b[0m in \u001b[0;36m<module>\u001b[1;34m\u001b[0m\n\u001b[0;32m      1\u001b[0m \u001b[1;31m# aluminum foil 21\u001b[0m\u001b[1;33m\u001b[0m\u001b[1;33m\u001b[0m\u001b[0m\n\u001b[1;32m----> 2\u001b[1;33m \u001b[0mcounts\u001b[0m\u001b[1;33m,\u001b[0m \u001b[0mebins\u001b[0m \u001b[1;33m=\u001b[0m \u001b[0mgsa\u001b[0m\u001b[1;33m.\u001b[0m\u001b[0mget_spect\u001b[0m\u001b[1;33m(\u001b[0m\u001b[0mal21_path\u001b[0m\u001b[1;33m)\u001b[0m\u001b[1;33m\u001b[0m\u001b[1;33m\u001b[0m\u001b[0m\n\u001b[0m\u001b[0;32m      3\u001b[0m \u001b[0mgsa\u001b[0m\u001b[1;33m.\u001b[0m\u001b[0mplot_spec\u001b[0m\u001b[1;33m(\u001b[0m\u001b[0mcounts\u001b[0m\u001b[1;33m)\u001b[0m\u001b[1;33m\u001b[0m\u001b[1;33m\u001b[0m\u001b[0m\n",
      "\u001b[1;31mTypeError\u001b[0m: cannot unpack non-iterable spect object"
     ]
    }
   ],
   "source": [
    "# aluminum foil 21\n",
    "counts, ebins = gsa.get_spect(al21_path)\n",
    "gsa.plot_spec(counts)"
   ]
  },
  {
   "cell_type": "code",
   "execution_count": null,
   "id": "688714a5",
   "metadata": {},
   "outputs": [],
   "source": [
    "# aluminum foil 22\n",
    "counts, ebins = gsa.get_spect(al22_path)\n",
    "gsa.plot_spec(counts)"
   ]
  },
  {
   "cell_type": "code",
   "execution_count": null,
   "id": "ce52cf91",
   "metadata": {},
   "outputs": [],
   "source": []
  }
 ],
 "metadata": {
  "kernelspec": {
   "display_name": "Python 3 (ipykernel)",
   "language": "python",
   "name": "python3"
  },
  "language_info": {
   "codemirror_mode": {
    "name": "ipython",
    "version": 3
   },
   "file_extension": ".py",
   "mimetype": "text/x-python",
   "name": "python",
   "nbconvert_exporter": "python",
   "pygments_lexer": "ipython3",
   "version": "3.9.7"
  }
 },
 "nbformat": 4,
 "nbformat_minor": 5
}
