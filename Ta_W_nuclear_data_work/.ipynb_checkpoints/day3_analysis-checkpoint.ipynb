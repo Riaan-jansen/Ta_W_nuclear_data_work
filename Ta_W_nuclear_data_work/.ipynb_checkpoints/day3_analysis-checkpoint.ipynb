{
 "cells": [
  {
   "cell_type": "code",
   "execution_count": 26,
   "id": "3012d884",
   "metadata": {},
   "outputs": [],
   "source": [
    " %matplotlib inline\n",
    "# imports\n",
    "import basic_data_reader as bdr\n",
    "import pandas as pd\n",
    "import numpy as np\n",
    "import matplotlib.pyplot as plt\n",
    "\n",
    "import fispact_printlib_reader as fpr\n",
    "import fispact_analysis as fa\n",
    "import fispact_output_reader\n",
    "import gs_analysis as gsa\n"
   ]
  },
  {
   "cell_type": "code",
   "execution_count": 27,
   "id": "014937d1",
   "metadata": {},
   "outputs": [],
   "source": [
    "# data paths\n",
    "# aluminium foils - measured downstairs\n",
    "al21_path = \"exp_data/Germanium/day3/Irradiations/Downstairs/meas_al21_vertical.spe\"\n",
    "al22_path = \"exp_data/Germanium/day3/Irradiations/Downstairs/meas_al22_vertical.spe\"\n",
    "\n",
    "#Ta foils - measured upstairs\n",
    "ta21_path = \"exp_data/Germanium/day3/Irradiations/Upstairs/meas_Ta21_135mm_source_to_detector.spe\"\n",
    "ta22_path = \"exp_data/Germanium/day3/Irradiations/Upstairs/meas_Ta22_125mm_source_to_detector.spe\"\n",
    "ta23_path = \"exp_data/Germanium/day3/Irradiations/Upstairs/meas_Ta23_125mm_source_to_detector.spe\"\n",
    "\n",
    "# downstairs calibration runs\n",
    "na22_cal_ds_path = \"exp_data/Germanium/day3/Irradiations/Downstairs/ecal_22na_vertical.spe\"\n",
    "co60_cal_ds_path = \"exp_data/Germanium/day3/Irradiations/Downstairs/ecal_60co_vertical.spe\"\n",
    "ag108_cal_ds_path = \"exp_data/Germanium/day3/Irradiations/Downstairs/ecal_108m_ag_vertical.spe\"\n",
    "cs137_cal_ds_path = \"exp_data/Germanium/day3/Irradiations/Downstairs/ecal_137cs_vertical.spe\"\n",
    "ba133_cal_ds_path = \"exp_data/Germanium/day3/Irradiations/Downstairs/ecal_133ba_vertical.spe\"\n",
    "am241_cal_ds_path = \"exp_data/Germanium/day3/Irradiations/Downstairs/ecal_241am_vertical.spe\"\n",
    "eu152_cal_ds_path = \"exp_data/Germanium/day3/Irradiations/Downstairs/ecal_152eu_vertical.spe\"\n",
    "\n",
    "# upstairs calibration runs\n",
    "co60_cal_up_path = \"exp_data/Germanium/day3/Irradiations/Upstairs/ecal_60co_upstairs_141mm_source_to_detector.spe\"\n",
    "eu152_cal_up_path = \"exp_data/Germanium/day3/Irradiations/Upstairs/ecal_152eu_upstairs_141mm_source_to_detector.spe\"\n"
   ]
  },
  {
   "cell_type": "code",
   "execution_count": 28,
   "id": "6f0b3412",
   "metadata": {},
   "outputs": [],
   "source": [
    "# calibration source data\n",
    "\"\"\"23/01/23\n",
    "--------\n",
    "\n",
    "Source   ID                      Activity (Bq)\n",
    "\n",
    "108mAg   UOB940115               7820 +/-   481\n",
    "\n",
    "241Am    1Q598                 408526 +/- 20427\n",
    "\n",
    "133Ba    Ba133.278.17           57070 +/-  2964\n",
    "\n",
    "60Co     Co60.284.17            41542 +/-  1828\n",
    "\n",
    "137Cs    A0697                 115295 +/-  4266\n",
    "\n",
    "152Eu    C3N.19/92 [EW 617]     93206 +/-  4661\n",
    "\n",
    "22Na     NA22-UOB251021         33512 +/-  1837\n",
    "\"\"\"\n",
    "\n",
    "cal_source_data = {\"ag108m\":7820, \"am241\":408526, \"ba133\":57070, \"co60\":41542, \"cs137\":115295, \"eu152\":93206, \"na22\":33512}\n",
    "cal_source_peaks = {\"ag108m\":[], \"am241\":[59], \"ba133\":[], \"co60\":[1173, 1332], \"cs137\":[], \"eu152\":[], \"na22\":[]}"
   ]
  },
  {
   "cell_type": "code",
   "execution_count": 30,
   "id": "257d310b",
   "metadata": {},
   "outputs": [
    {
     "data": {
      "text/plain": [
       "[59]"
      ]
     },
     "execution_count": 30,
     "metadata": {},
     "output_type": "execute_result"
    }
   ],
   "source": [
    "# downstairs calibration\n",
    "measured_peak_area = {}\n",
    "\n",
    "# am241\n",
    "counts, ebins = gsa.get_spect(am241_cal_ds_path)\n",
    "gsa.plot_spec(counts, peaks=cal_source_peaks[\"am241\"])\n"
   ]
  },
  {
   "cell_type": "code",
   "execution_count": 13,
   "id": "5516fd7a",
   "metadata": {},
   "outputs": [
    {
     "data": {
      "image/png": "[encoded data removed]",
      "text/plain": [
       "<Figure size 432x288 with 1 Axes>"
      ]
     },
     "metadata": {
      "needs_background": "light"
     },
     "output_type": "display_data"
    }
   ],
   "source": [
    "# aluminum foil 21\n",
    "counts, ebins = gsa.get_spect(al21_path)\n",
    "gsa.plot_spec(counts)"
   ]
  },
  {
   "cell_type": "code",
   "execution_count": 14,
   "id": "688714a5",
   "metadata": {},
   "outputs": [
    {
     "data": {
      "image/png": "[encoded data removed]",
      "text/plain": [
       "<Figure size 432x288 with 1 Axes>"
      ]
     },
     "metadata": {
      "needs_background": "light"
     },
     "output_type": "display_data"
    }
   ],
   "source": [
    "# aluminum foil 22\n",
    "counts, ebins = gsa.get_spect(al22_path)\n",
    "gsa.plot_spec(counts)"
   ]
  },
  {
   "cell_type": "code",
   "execution_count": null,
   "id": "ce52cf91",
   "metadata": {},
   "outputs": [],
   "source": []
  }
 ],
 "metadata": {
  "kernelspec": {
   "display_name": "Python 3 (ipykernel)",
   "language": "python",
   "name": "python3"
  },
  "language_info": {
   "codemirror_mode": {
    "name": "ipython",
    "version": 3
   },
   "file_extension": ".py",
   "mimetype": "text/x-python",
   "name": "python",
   "nbconvert_exporter": "python",
   "pygments_lexer": "ipython3",
   "version": "3.9.7"
  }
 },
 "nbformat": 4,
 "nbformat_minor": 5
}
