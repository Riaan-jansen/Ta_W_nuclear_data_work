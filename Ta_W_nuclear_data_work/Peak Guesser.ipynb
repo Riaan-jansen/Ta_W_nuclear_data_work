{
 "cells": [
  {
   "cell_type": "markdown",
   "id": "ede83dd9",
   "metadata": {},
   "source": [
    "# Peak guesser\n",
    "provided a peak energy and experiment, will suggest possible nuclides"
   ]
  },
  {
   "cell_type": "code",
   "execution_count": 11,
   "id": "909ecc07",
   "metadata": {},
   "outputs": [],
   "source": [
    " %matplotlib inline\n",
    "# imports\n",
    "import basic_data_reader as bdr\n",
    "import pandas as pd\n",
    "import numpy as np\n",
    "import matplotlib\n",
    "import matplotlib.pyplot as plt\n",
    "from matplotlib.pyplot import cm\n",
    "import fispact_printlib_reader as fpr\n",
    "import fispact_analysis as fa\n",
    "import fispact_output_reader\n",
    "\n",
    "# get gamma line data\n",
    "linedata = fpr.read_fispact_printlib(\"Data/decay_lines.out\")\n",
    "linedata = fpr.particle_filter(linedata, 'gamma')\n",
    "linedata[\"energy_kev\"] = linedata[\"energy_ev\"]/1000"
   ]
  },
  {
   "cell_type": "code",
   "execution_count": 16,
   "id": "54b20cf9",
   "metadata": {},
   "outputs": [],
   "source": [
    "# input data\n",
    "peak_energy = 135 # energy in KeV of peak to be identified\n",
    "p_energy = 30.0 # proton beam energy in MeV\n",
    "irrad_time = 3600 # irradiation time in seconds  3600, 900 and 300 are simulated in fispact\n",
    "material = \"Ta\"  # sample material\n",
    "\n",
    "tol = 3 # energy tolerance on the peak energy - result provides all possible peaks within +- tol\n"
   ]
  },
  {
   "cell_type": "code",
   "execution_count": 17,
   "id": "501c0b47",
   "metadata": {},
   "outputs": [
    {
     "name": "stdout",
     "output_type": "stream",
     "text": [
      "[('Ta177', 136.725), ('W179', 133.9), ('W181', 136.26)]\n"
     ]
    }
   ],
   "source": [
    "# get fispact simulation output for the start of the count\n",
    "ef = str(p_energy) + \"MeV/\"\n",
    "fn1 = material + \"_\" + str(p_energy)\n",
    "if irrad_time == 3600:\n",
    "    tme_str = \"1hr/\"\n",
    "elif irrad_time == 900:\n",
    "    tme_str = \"15min/\"\n",
    "else:\n",
    "    tme_str = \"5min/\"\n",
    "path = \"simulations/fispact/\"+ tme_str + material + \"/TENDL/\" + fn1 + \".out\"\n",
    "fout = fispact_output_reader.read_fis_out(path)\n",
    "\n",
    "# reduce to gamma emitting nuclides with more than 1bq/g,\n",
    "inv = fout.timestep_data[2].inventory  # need to make it link to cooling time - current set for 10mins\n",
    "inv = inv[inv[\"act\"] > 1000]   # simulations are for 1kg\n",
    "inv = fa.filter_emits_gamma(inv)\n",
    "nucs = inv[\"nuclide\"].unique()\n",
    "\n",
    "# search for possible lines\n",
    "possibles = []\n",
    "max_e = peak_energy + tol\n",
    "min_e = peak_energy - tol\n",
    "\n",
    "for i, nuc in enumerate(inv[\"nuclide\"]):\n",
    "    nuc_lines = linedata[linedata[\"nuclide\"] == nuc]\n",
    "    nuc_lines = nuc_lines.drop_duplicates(['energy_kev'])\n",
    "    for energy in nuc_lines[\"energy_kev\"]:\n",
    "         if energy > min_e and energy < max_e:\n",
    "                possibles.append((nuc, energy))\n",
    "                \n",
    "print(possibles)"
   ]
  },
  {
   "cell_type": "code",
   "execution_count": null,
   "id": "4a9b73af",
   "metadata": {},
   "outputs": [],
   "source": []
  }
 ],
 "metadata": {
  "kernelspec": {
   "display_name": "Python 3 (ipykernel)",
   "language": "python",
   "name": "python3"
  },
  "language_info": {
   "codemirror_mode": {
    "name": "ipython",
    "version": 3
   },
   "file_extension": ".py",
   "mimetype": "text/x-python",
   "name": "python",
   "nbconvert_exporter": "python",
   "pygments_lexer": "ipython3",
   "version": "3.9.7"
  }
 },
 "nbformat": 4,
 "nbformat_minor": 5
}
